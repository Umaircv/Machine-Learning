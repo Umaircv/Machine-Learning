{
 "cells": [
  {
   "cell_type": "markdown",
   "metadata": {},
   "source": [
    "## Dealing with Missing Values"
   ]
  },
  {
   "cell_type": "markdown",
   "metadata": {},
   "source": [
    "## Identification:\n",
    "1. Visual Inspection: Data ko visualize kar ke missing values ko identify kiya jata hai.\n",
    "2. Descriptive Statistics: Data ki descriptive statistics ko calculate kar ke missing values ko identify kiya jata hai.\n",
    "3. Missingno Library: Missingno library ko use kar ke missing values ko identify kiya jata hai."
   ]
  },
  {
   "cell_type": "code",
   "execution_count": 17,
   "metadata": {},
   "outputs": [],
   "source": [
    "import pandas as pd\n",
    "import numpy as np\n",
    "import matplotlib.pyplot as plt\n",
    "import seaborn as sns"
   ]
  },
  {
   "cell_type": "markdown",
   "metadata": {},
   "source": [
    "Mean or Median"
   ]
  },
  {
   "cell_type": "code",
   "execution_count": 9,
   "metadata": {},
   "outputs": [
    {
     "name": "stdout",
     "output_type": "stream",
     "text": [
      "----------------------------------------\n",
      "Here is the data with missing value:\n",
      "      Age\n",
      "0   20.0\n",
      "1   21.0\n",
      "2   22.0\n",
      "3   23.0\n",
      "4   24.0\n",
      "5   25.0\n",
      "6   26.0\n",
      "7   27.0\n",
      "8   28.0\n",
      "9   29.0\n",
      "10   NaN\n",
      "11  50.0\n",
      "----------------------------------------\n",
      "Here is the data without missing value:\n",
      "           Age\n",
      "0   20.000000\n",
      "1   21.000000\n",
      "2   22.000000\n",
      "3   23.000000\n",
      "4   24.000000\n",
      "5   25.000000\n",
      "6   26.000000\n",
      "7   27.000000\n",
      "8   28.000000\n",
      "9   29.000000\n",
      "10  26.818182\n",
      "11  50.000000\n"
     ]
    }
   ],
   "source": [
    "\n",
    "# Create the data\n",
    "data = pd.DataFrame({'Age': [20, 21, 22, 23, 24, 25, 26, 27, 28, 29, np.nan, 50]})\n",
    "\n",
    "# Print the data with missing value\n",
    "print(\"----------------------------------------\")\n",
    "print(f\"Here is the data with missing value:\\n {data}\")\n",
    "\n",
    "# Calculate the mean\n",
    "mean = data['Age'].mean()\n",
    "\n",
    "# Replace the missing values with mean\n",
    "data['Age'] = data['Age'].fillna(mean)\n",
    "print(\"----------------------------------------\")\n",
    "# Print the data without missing value\n",
    "print(f\"Here is the data without missing value:\\n {data}\")"
   ]
  },
  {
   "cell_type": "markdown",
   "metadata": {},
   "source": [
    "MODE"
   ]
  },
  {
   "cell_type": "code",
   "execution_count": 10,
   "metadata": {},
   "outputs": [
    {
     "name": "stdout",
     "output_type": "stream",
     "text": [
      "----------------------------------------\n",
      "Here is the data with missing value:\n",
      "      Fruit\n",
      "0    Apple\n",
      "1   Banana\n",
      "2    Apple\n",
      "3   Banana\n",
      "4    Apple\n",
      "5   Banana\n",
      "6    Apple\n",
      "7   Banana\n",
      "8    Apple\n",
      "9   Banana\n",
      "10     NaN\n",
      "11  Banana\n",
      "----------------------------------------\n",
      "Here is the data without missing value:\n",
      "      Fruit\n",
      "0    Apple\n",
      "1   Banana\n",
      "2    Apple\n",
      "3   Banana\n",
      "4    Apple\n",
      "5   Banana\n",
      "6    Apple\n",
      "7   Banana\n",
      "8    Apple\n",
      "9   Banana\n",
      "10  Banana\n",
      "11  Banana\n"
     ]
    }
   ],
   "source": [
    "\n",
    "\n",
    "# Create the data categorical data with mode and missing value\n",
    "data = pd.DataFrame({'Fruit': ['Apple', 'Banana', 'Apple', 'Banana', 'Apple', 'Banana', 'Apple', 'Banana', 'Apple', 'Banana', np.nan, 'Banana']})\n",
    "\n",
    "# Print the data with missing value\n",
    "print(\"----------------------------------------\")\n",
    "print(f\"Here is the data with missing value:\\n {data}\")\n",
    "\n",
    "# Find the mode\n",
    "mode = data['Fruit'].mode()[0]\n",
    "\n",
    "# Replace the missing values with mode\n",
    "data['Fruit'] = data['Fruit'].fillna(mode)\n",
    "print(\"----------------------------------------\")\n",
    "# Print the data without missing value\n",
    "print(f\"Here is the data without missing value:\\n {data}\")"
   ]
  },
  {
   "cell_type": "markdown",
   "metadata": {},
   "source": [
    "Forward Fill"
   ]
  },
  {
   "cell_type": "code",
   "execution_count": 11,
   "metadata": {},
   "outputs": [
    {
     "name": "stdout",
     "output_type": "stream",
     "text": [
      "----------------------------------------\n",
      "Here is the data with missing value:\n",
      "      Age\n",
      "0   20.0\n",
      "1   21.0\n",
      "2   22.0\n",
      "3   23.0\n",
      "4   24.0\n",
      "5   25.0\n",
      "6   26.0\n",
      "7   27.0\n",
      "8   28.0\n",
      "9   29.0\n",
      "10   NaN\n",
      "11  50.0\n",
      "----------------------------------------\n",
      "Here is the data without missing value:\n",
      "      Age\n",
      "0   20.0\n",
      "1   21.0\n",
      "2   22.0\n",
      "3   23.0\n",
      "4   24.0\n",
      "5   25.0\n",
      "6   26.0\n",
      "7   27.0\n",
      "8   28.0\n",
      "9   29.0\n",
      "10  29.0\n",
      "11  50.0\n"
     ]
    }
   ],
   "source": [
    "# Create the data\n",
    "data = pd.DataFrame({'Age': [20, 21, 22, 23, 24, 25, 26, 27, 28, 29, np.nan, 50]})\n",
    "\n",
    "# Print the data with missing value\n",
    "print(\"----------------------------------------\")\n",
    "print(f\"Here is the data with missing value:\\n {data}\")\n",
    "\n",
    "# Replace the missing values with forward fill\n",
    "data['Age'] = data['Age'].ffill()\n",
    "print(\"----------------------------------------\")\n",
    "# Print the data without missing value\n",
    "print(f\"Here is the data without missing value:\\n {data}\")"
   ]
  },
  {
   "cell_type": "markdown",
   "metadata": {},
   "source": [
    "Backward fill"
   ]
  },
  {
   "cell_type": "code",
   "execution_count": 12,
   "metadata": {},
   "outputs": [
    {
     "name": "stdout",
     "output_type": "stream",
     "text": [
      "----------------------------------------\n",
      "Here is the data with missing value:\n",
      "      Age\n",
      "0   20.0\n",
      "1   21.0\n",
      "2   22.0\n",
      "3   23.0\n",
      "4   24.0\n",
      "5   25.0\n",
      "6   26.0\n",
      "7   27.0\n",
      "8   28.0\n",
      "9   29.0\n",
      "10   NaN\n",
      "11  50.0\n",
      "----------------------------------------\n",
      "Here is the data without missing value:\n",
      "      Age\n",
      "0   20.0\n",
      "1   21.0\n",
      "2   22.0\n",
      "3   23.0\n",
      "4   24.0\n",
      "5   25.0\n",
      "6   26.0\n",
      "7   27.0\n",
      "8   28.0\n",
      "9   29.0\n",
      "10  50.0\n",
      "11  50.0\n"
     ]
    }
   ],
   "source": [
    "# Create the data\n",
    "data = pd.DataFrame({'Age': [20, 21, 22, 23, 24, 25, 26, 27, 28, 29, np.nan, 50]})\n",
    "# Print the data with missing value\n",
    "print(\"----------------------------------------\")\n",
    "print(f\"Here is the data with missing value:\\n {data}\")\n",
    "\n",
    "# Replace the missing values with backward fill\n",
    "data['Age'] = data['Age'].bfill()\n",
    "print(\"----------------------------------------\")\n",
    "# Print the data without missing value\n",
    "print(f\"Here is the data without missing value:\\n {data}\")"
   ]
  },
  {
   "cell_type": "markdown",
   "metadata": {},
   "source": [
    "KNN"
   ]
  },
  {
   "cell_type": "code",
   "execution_count": 15,
   "metadata": {},
   "outputs": [
    {
     "name": "stdout",
     "output_type": "stream",
     "text": [
      "----------------------------------------\n",
      "Here is the data with missing value:\n",
      "      Age\n",
      "0   20.0\n",
      "1   21.0\n",
      "2   22.0\n",
      "3   23.0\n",
      "4   24.0\n",
      "5   25.0\n",
      "6   26.0\n",
      "7   27.0\n",
      "8   28.0\n",
      "9   29.0\n",
      "10   NaN\n",
      "11  50.0\n",
      "----------------------------------------\n",
      "Here is the data without missing value:\n",
      "           Age\n",
      "0   20.000000\n",
      "1   21.000000\n",
      "2   22.000000\n",
      "3   23.000000\n",
      "4   24.000000\n",
      "5   25.000000\n",
      "6   26.000000\n",
      "7   27.000000\n",
      "8   28.000000\n",
      "9   29.000000\n",
      "10  26.818182\n",
      "11  50.000000\n"
     ]
    }
   ],
   "source": [
    "from sklearn.impute import KNNImputer\n",
    "\n",
    "\n",
    "# Create the data\n",
    "data = pd.DataFrame({'Age': [20, 21, 22, 23, 24, 25, 26, 27, 28, 29, np.nan, 50]})\n",
    "# Print the data with missing value\n",
    "print(\"----------------------------------------\")\n",
    "print(f\"Here is the data with missing value:\\n {data}\")\n",
    "\n",
    "# Initialize the KNNImputer\n",
    "imputer = KNNImputer(n_neighbors=2)\n",
    "\n",
    "# Replace the missing values with KNN imputation\n",
    "data['Age'] = imputer.fit_transform(data[['Age']])\n",
    "print(\"----------------------------------------\")\n",
    "# Print the data without missing value\n",
    "print(f\"Here is the data without missing value:\\n {data}\")"
   ]
  },
  {
   "cell_type": "markdown",
   "metadata": {},
   "source": [
    "Deep Learning Autoencoder"
   ]
  },
  {
   "cell_type": "code",
   "execution_count": 16,
   "metadata": {},
   "outputs": [
    {
     "name": "stdout",
     "output_type": "stream",
     "text": [
      "----------------------------------------\n",
      "Here is the data with missing value:\n",
      "      Age\n",
      "0   20.0\n",
      "1   21.0\n",
      "2   22.0\n",
      "3   23.0\n",
      "4   24.0\n",
      "5   25.0\n",
      "6   26.0\n",
      "7   27.0\n",
      "8   28.0\n",
      "9   29.0\n",
      "10   NaN\n",
      "11  50.0\n",
      "----------------------------------------\n",
      "Here is the data without missing value:\n",
      "           Age\n",
      "0   20.000000\n",
      "1   21.000000\n",
      "2   22.000000\n",
      "3   23.000000\n",
      "4   24.000000\n",
      "5   25.000000\n",
      "6   26.000000\n",
      "7   27.000000\n",
      "8   28.000000\n",
      "9   29.000000\n",
      "10  26.818182\n",
      "11  50.000000\n"
     ]
    }
   ],
   "source": [
    "\n",
    "from sklearn.experimental import enable_iterative_imputer\n",
    "from sklearn.impute import IterativeImputer\n",
    "\n",
    "# Create the data\n",
    "data = pd.DataFrame({'Age': [20, 21, 22, 23, 24, 25, 26, 27, 28, 29, np.nan, 50]})\n",
    "# Print the data with missing value\n",
    "print(\"----------------------------------------\")\n",
    "print(f\"Here is the data with missing value:\\n {data}\")\n",
    "\n",
    "# Initialize the IterativeImputer\n",
    "imputer = IterativeImputer()\n",
    "\n",
    "# Replace the missing values with deep learning techniques\n",
    "data['Age'] = imputer.fit_transform(data[['Age']])\n",
    "print(\"----------------------------------------\")\n",
    "# Print the data without missing value\n",
    "print(f\"Here is the data without missing value:\\n {data}\")"
   ]
  }
 ],
 "metadata": {
  "kernelspec": {
   "display_name": "python_ml",
   "language": "python",
   "name": "python3"
  },
  "language_info": {
   "codemirror_mode": {
    "name": "ipython",
    "version": 3
   },
   "file_extension": ".py",
   "mimetype": "text/x-python",
   "name": "python",
   "nbconvert_exporter": "python",
   "pygments_lexer": "ipython3",
   "version": "3.12.3"
  }
 },
 "nbformat": 4,
 "nbformat_minor": 2
}
