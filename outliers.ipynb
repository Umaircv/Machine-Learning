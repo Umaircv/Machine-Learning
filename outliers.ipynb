{
 "cells": [
  {
   "cell_type": "markdown",
   "metadata": {},
   "source": [
    "## Handling Outliers"
   ]
  },
  {
   "cell_type": "code",
   "execution_count": 1,
   "metadata": {},
   "outputs": [],
   "source": [
    "import numpy as np\n",
    "import pandas as pd\n",
    "import seaborn as sns"
   ]
  },
  {
   "cell_type": "code",
   "execution_count": 4,
   "metadata": {},
   "outputs": [],
   "source": [
    "df=pd.DataFrame({\"Age\":[1,5,8,9,6,3,2,8,9,8,10,18,19,50,25,66,98]})"
   ]
  },
  {
   "cell_type": "code",
   "execution_count": 7,
   "metadata": {},
   "outputs": [
    {
     "data": {
      "text/plain": [
       "20.294117647058822"
      ]
     },
     "execution_count": 7,
     "metadata": {},
     "output_type": "execute_result"
    }
   ],
   "source": [
    "mean=np.mean(df['Age'])\n",
    "mean"
   ]
  },
  {
   "cell_type": "code",
   "execution_count": 8,
   "metadata": {},
   "outputs": [
    {
     "data": {
      "text/plain": [
       "25.779072008767457"
      ]
     },
     "execution_count": 8,
     "metadata": {},
     "output_type": "execute_result"
    }
   ],
   "source": [
    "sd=np.std(df['Age'])\n",
    "sd"
   ]
  },
  {
   "cell_type": "markdown",
   "metadata": {},
   "source": [
    "z-score Method:"
   ]
  },
  {
   "cell_type": "code",
   "execution_count": 10,
   "metadata": {},
   "outputs": [
    {
     "name": "stdout",
     "output_type": "stream",
     "text": [
      "----------------------------------------\n",
      "Here is the data with outliers:\n",
      "     Age   Z-Score\n",
      "0     1 -0.748441\n",
      "1     5 -0.593277\n",
      "2     8 -0.476903\n",
      "3     9 -0.438112\n",
      "4     6 -0.554485\n",
      "5     3 -0.670859\n",
      "6     2 -0.709650\n",
      "7     8 -0.476903\n",
      "8     9 -0.438112\n",
      "9     8 -0.476903\n",
      "10   10 -0.399321\n",
      "11   18 -0.088991\n",
      "12   19 -0.050200\n",
      "13   50  1.152326\n",
      "14   25  0.182547\n",
      "15   66  1.772984\n",
      "16   98  3.014301\n",
      "----------------------------------------\n",
      "Here are the outliers based on the z-score threshold, 3:\n",
      "     Age   Z-Score\n",
      "16   98  3.014301\n",
      "----------------------------------------\n",
      "Here is the data without outliers:\n",
      "     Age   Z-Score\n",
      "0     1 -0.748441\n",
      "1     5 -0.593277\n",
      "2     8 -0.476903\n",
      "3     9 -0.438112\n",
      "4     6 -0.554485\n",
      "5     3 -0.670859\n",
      "6     2 -0.709650\n",
      "7     8 -0.476903\n",
      "8     9 -0.438112\n",
      "9     8 -0.476903\n",
      "10   10 -0.399321\n",
      "11   18 -0.088991\n",
      "12   19 -0.050200\n",
      "13   50  1.152326\n",
      "14   25  0.182547\n",
      "15   66  1.772984\n",
      "16   98  3.014301\n"
     ]
    }
   ],
   "source": [
    "df['Z-Score'] = (df['Age'] - mean) /sd\n",
    "\n",
    "# Step 5: Print the data\n",
    "print(\"----------------------------------------\")\n",
    "print(f\"Here is the data with outliers:\\n {df}\")\n",
    "print(\"----------------------------------------\")\n",
    "# Step 6: Print the outliers\n",
    "print(f\"Here are the outliers based on the z-score threshold, 3:\\n {df[df['Z-Score'] > 3]}\")\n",
    "print(\"----------------------------------------\")\n",
    "# Step 7: Remove the outliers\n",
    "data = df[df['Z-Score'] <= 3]\n",
    "\n",
    "# Step 8: Print the data without outliers\n",
    "print(f\"Here is the data without outliers:\\n {df}\")"
   ]
  },
  {
   "cell_type": "markdown",
   "metadata": {},
   "source": [
    "scipy library using stats"
   ]
  },
  {
   "cell_type": "code",
   "execution_count": 12,
   "metadata": {},
   "outputs": [
    {
     "name": "stdout",
     "output_type": "stream",
     "text": [
      "----------------------------------------\n",
      "Data: [2.5, 2.7, 2.8, 3.0, 3.2, 3.4, 3.6, 3.8, 4.0, 110.0]\n",
      "----------------------------------------\n",
      "Indices of Outliers: [9]\n",
      "Outliers: [110.0]\n",
      "----------------------------------------\n",
      "Data without outliers: [2.5, 2.7, 2.8, 3.0, 3.2, 3.4, 3.6, 3.8, 4.0]\n"
     ]
    }
   ],
   "source": [
    "# Import libraries\n",
    "import numpy as np\n",
    "from scipy import stats\n",
    "\n",
    "# Sample data\n",
    "data = [2.5, 2.7, 2.8, 3.0, 3.2, 3.4, 3.6, 3.8, 4.0, 110.0]\n",
    "\n",
    "# Calculate the Z-score for each data point\n",
    "z_scores = np.abs(stats.zscore(data))\n",
    "\n",
    "# Set a threshold for identifying outliers\n",
    "threshold = 2.5 \n",
    "outliers = np.where(z_scores > threshold)[0]\n",
    "\n",
    "# print the data\n",
    "print(\"----------------------------------------\")\n",
    "print(\"Data:\", data)\n",
    "print(\"----------------------------------------\")\n",
    "\n",
    "print(\"Indices of Outliers:\", outliers)\n",
    "print(\"Outliers:\", [data[i] for i in outliers])\n",
    "\n",
    "# Remove outliers\n",
    "data = [data[i] for i in range(len(data)) if i not in outliers]\n",
    "print(\"----------------------------------------\")\n",
    "print(\"Data without outliers:\", data)"
   ]
  },
  {
   "cell_type": "markdown",
   "metadata": {},
   "source": [
    "IQR Method:"
   ]
  },
  {
   "cell_type": "code",
   "execution_count": 13,
   "metadata": {},
   "outputs": [
    {
     "name": "stdout",
     "output_type": "stream",
     "text": [
      "----------------------------------------\n",
      "Here is the data with outliers:\n",
      "     Age\n",
      "0    20\n",
      "1    21\n",
      "2    22\n",
      "3    23\n",
      "4    24\n",
      "5    25\n",
      "6    26\n",
      "7    27\n",
      "8    28\n",
      "9    29\n",
      "10   30\n",
      "11   50\n",
      "----------------------------------------\n",
      "Here are the outliers based on the IQR threshold:\n",
      "     Age\n",
      "11   50\n",
      "----------------------------------------\n",
      "Here is the data without outliers:\n",
      "     Age\n",
      "0    20\n",
      "1    21\n",
      "2    22\n",
      "3    23\n",
      "4    24\n",
      "5    25\n",
      "6    26\n",
      "7    27\n",
      "8    28\n",
      "9    29\n",
      "10   30\n"
     ]
    }
   ],
   "source": [
    "# Step 1: Import the required libraries\n",
    "import pandas as pd\n",
    "import numpy as np\n",
    "\n",
    "# Step 2: Create the data\n",
    "data = pd.DataFrame({'Age': [20, 21, 22, 23, 24, 25, 26, 27, 28, 29, 30, 50]})\n",
    "\n",
    "# Step 3: Calculate the first and third quartile\n",
    "Q1 = np.percentile(data['Age'], 25, interpolation = 'midpoint')\n",
    "Q3 = np.percentile(data['Age'], 75, interpolation = 'midpoint')\n",
    "\n",
    "# Step 4: Calculate the IQR\n",
    "IQR = Q3 - Q1\n",
    "\n",
    "# Step 5: Calculate the lower and upper bound\n",
    "lower_bound = Q1 - (1.5 * IQR)\n",
    "upper_bound = Q3 + (1.5 * IQR)\n",
    "\n",
    "# Step 6: Print the data\n",
    "print(\"----------------------------------------\")\n",
    "print(f\"Here is the data with outliers:\\n {data}\")\n",
    "print(\"----------------------------------------\")\n",
    "# Step 7: Print the outliers\n",
    "print(f\"Here are the outliers based on the IQR threshold:\\n {data[(data['Age'] < lower_bound) | (data['Age'] > upper_bound)]}\")\n",
    "print(\"----------------------------------------\")\n",
    "# Step 8: Remove the outliers\n",
    "data = data[(data['Age'] >= lower_bound) & (data['Age'] <= upper_bound)]\n",
    "\n",
    "# Step 9: Print the data without outliers\n",
    "print(f\"Here is the data without outliers:\\n {data}\")"
   ]
  }
 ],
 "metadata": {
  "kernelspec": {
   "display_name": "python_ml",
   "language": "python",
   "name": "python3"
  },
  "language_info": {
   "codemirror_mode": {
    "name": "ipython",
    "version": 3
   },
   "file_extension": ".py",
   "mimetype": "text/x-python",
   "name": "python",
   "nbconvert_exporter": "python",
   "pygments_lexer": "ipython3",
   "version": "3.12.3"
  }
 },
 "nbformat": 4,
 "nbformat_minor": 2
}
